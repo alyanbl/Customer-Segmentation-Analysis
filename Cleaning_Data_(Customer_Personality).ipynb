{
  "nbformat": 4,
  "nbformat_minor": 0,
  "metadata": {
    "colab": {
      "provenance": []
    },
    "kernelspec": {
      "name": "python3",
      "display_name": "Python 3"
    },
    "language_info": {
      "name": "python"
    }
  },
  "cells": [
    {
      "cell_type": "markdown",
      "source": [
        "# Load Data"
      ],
      "metadata": {
        "id": "glPv49TUTgJW"
      }
    },
    {
      "cell_type": "code",
      "source": [
        "import pandas as pd\n",
        "\n",
        "df = pd.read_csv('/content/marketing_campaign.csv',sep=';')\n",
        "print(df)"
      ],
      "metadata": {
        "id": "CAfAVrUhS4aX",
        "colab": {
          "base_uri": "https://localhost:8080/"
        },
        "outputId": "d72d1ba8-e8ea-4d0b-d3ae-001a39d8149d"
      },
      "execution_count": 13,
      "outputs": [
        {
          "output_type": "stream",
          "name": "stdout",
          "text": [
            "         ID  Year_Birth   Education Marital_Status   Income  Kidhome  \\\n",
            "0      5524        1957  Graduation         Single  58138.0        0   \n",
            "1      2174        1954  Graduation         Single  46344.0        1   \n",
            "2      4141        1965  Graduation       Together  71613.0        0   \n",
            "3      6182        1984  Graduation       Together  26646.0        1   \n",
            "4      5324        1981         PhD        Married  58293.0        1   \n",
            "...     ...         ...         ...            ...      ...      ...   \n",
            "2235  10870        1967  Graduation        Married  61223.0        0   \n",
            "2236   4001        1946         PhD       Together  64014.0        2   \n",
            "2237   7270        1981  Graduation       Divorced  56981.0        0   \n",
            "2238   8235        1956      Master       Together  69245.0        0   \n",
            "2239   9405        1954         PhD        Married  52869.0        1   \n",
            "\n",
            "      Teenhome Dt_Customer  Recency  MntWines  ...  NumWebVisitsMonth  \\\n",
            "0            0  04/09/2012       58       635  ...                  7   \n",
            "1            1  08/03/2014       38        11  ...                  5   \n",
            "2            0  21/08/2013       26       426  ...                  4   \n",
            "3            0  10/02/2014       26        11  ...                  6   \n",
            "4            0  19/01/2014       94       173  ...                  5   \n",
            "...        ...         ...      ...       ...  ...                ...   \n",
            "2235         1  13/06/2013       46       709  ...                  5   \n",
            "2236         1  10/06/2014       56       406  ...                  7   \n",
            "2237         0  25/01/2014       91       908  ...                  6   \n",
            "2238         1  24/01/2014        8       428  ...                  3   \n",
            "2239         1  15/10/2012       40        84  ...                  7   \n",
            "\n",
            "      AcceptedCmp3  AcceptedCmp4  AcceptedCmp5  AcceptedCmp1  AcceptedCmp2  \\\n",
            "0                0             0             0             0             0   \n",
            "1                0             0             0             0             0   \n",
            "2                0             0             0             0             0   \n",
            "3                0             0             0             0             0   \n",
            "4                0             0             0             0             0   \n",
            "...            ...           ...           ...           ...           ...   \n",
            "2235             0             0             0             0             0   \n",
            "2236             0             0             0             1             0   \n",
            "2237             0             1             0             0             0   \n",
            "2238             0             0             0             0             0   \n",
            "2239             0             0             0             0             0   \n",
            "\n",
            "      Complain  Z_CostContact  Z_Revenue  Response  \n",
            "0            0              3         11         1  \n",
            "1            0              3         11         0  \n",
            "2            0              3         11         0  \n",
            "3            0              3         11         0  \n",
            "4            0              3         11         0  \n",
            "...        ...            ...        ...       ...  \n",
            "2235         0              3         11         0  \n",
            "2236         0              3         11         0  \n",
            "2237         0              3         11         0  \n",
            "2238         0              3         11         0  \n",
            "2239         0              3         11         1  \n",
            "\n",
            "[2240 rows x 29 columns]\n"
          ]
        }
      ]
    },
    {
      "cell_type": "markdown",
      "source": [
        "# Check Missing Values"
      ],
      "metadata": {
        "id": "TeKuP_JmV2zA"
      }
    },
    {
      "cell_type": "code",
      "source": [
        "print(df.isnull().sum())"
      ],
      "metadata": {
        "colab": {
          "base_uri": "https://localhost:8080/"
        },
        "id": "OkmHaZBaVvYm",
        "outputId": "036c183f-01ee-44bd-bbc2-d93fed47822e"
      },
      "execution_count": 17,
      "outputs": [
        {
          "output_type": "stream",
          "name": "stdout",
          "text": [
            "ID                      0\n",
            "Year_Birth              0\n",
            "Education               0\n",
            "Marital_Status          0\n",
            "Income                 24\n",
            "Kidhome                 0\n",
            "Teenhome                0\n",
            "Dt_Customer             0\n",
            "Recency                 0\n",
            "MntWines                0\n",
            "MntFruits               0\n",
            "MntMeatProducts         0\n",
            "MntFishProducts         0\n",
            "MntSweetProducts        0\n",
            "MntGoldProds            0\n",
            "NumDealsPurchases       0\n",
            "NumWebPurchases         0\n",
            "NumCatalogPurchases     0\n",
            "NumStorePurchases       0\n",
            "NumWebVisitsMonth       0\n",
            "AcceptedCmp3            0\n",
            "AcceptedCmp4            0\n",
            "AcceptedCmp5            0\n",
            "AcceptedCmp1            0\n",
            "AcceptedCmp2            0\n",
            "Complain                0\n",
            "Z_CostContact           0\n",
            "Z_Revenue               0\n",
            "Response                0\n",
            "dtype: int64\n"
          ]
        }
      ]
    },
    {
      "cell_type": "markdown",
      "source": [
        "column income has 24 missing values"
      ],
      "metadata": {
        "id": "H2lTxWlJXDsu"
      }
    },
    {
      "cell_type": "markdown",
      "source": [
        "# Drop Missing Values"
      ],
      "metadata": {
        "id": "qR3NJQPeXNVM"
      }
    },
    {
      "cell_type": "code",
      "source": [
        "df_clean = df.dropna()"
      ],
      "metadata": {
        "id": "dovbqa0gULhl"
      },
      "execution_count": 18,
      "outputs": []
    },
    {
      "cell_type": "code",
      "source": [
        "print(df_clean.isnull().sum())\n",
        "print(df_clean.shape)"
      ],
      "metadata": {
        "colab": {
          "base_uri": "https://localhost:8080/"
        },
        "id": "Xme0T199WZLJ",
        "outputId": "4009beeb-1103-4642-e656-88eeac20757e"
      },
      "execution_count": 20,
      "outputs": [
        {
          "output_type": "stream",
          "name": "stdout",
          "text": [
            "ID                     0\n",
            "Year_Birth             0\n",
            "Education              0\n",
            "Marital_Status         0\n",
            "Income                 0\n",
            "Kidhome                0\n",
            "Teenhome               0\n",
            "Dt_Customer            0\n",
            "Recency                0\n",
            "MntWines               0\n",
            "MntFruits              0\n",
            "MntMeatProducts        0\n",
            "MntFishProducts        0\n",
            "MntSweetProducts       0\n",
            "MntGoldProds           0\n",
            "NumDealsPurchases      0\n",
            "NumWebPurchases        0\n",
            "NumCatalogPurchases    0\n",
            "NumStorePurchases      0\n",
            "NumWebVisitsMonth      0\n",
            "AcceptedCmp3           0\n",
            "AcceptedCmp4           0\n",
            "AcceptedCmp5           0\n",
            "AcceptedCmp1           0\n",
            "AcceptedCmp2           0\n",
            "Complain               0\n",
            "Z_CostContact          0\n",
            "Z_Revenue              0\n",
            "Response               0\n",
            "dtype: int64\n",
            "(2216, 29)\n"
          ]
        }
      ]
    },
    {
      "cell_type": "markdown",
      "source": [
        "all missing values are dropped and now the cleaned data has 2216 rows"
      ],
      "metadata": {
        "id": "YrdVaII3WrbV"
      }
    },
    {
      "cell_type": "code",
      "source": [
        "df_clean.to_csv('marketing_campaign_cleaned.csv',index=False)"
      ],
      "metadata": {
        "id": "WJXESC5FWjrI"
      },
      "execution_count": 21,
      "outputs": []
    },
    {
      "cell_type": "code",
      "source": [
        "duplicates = df_clean[df_clean.duplicated()]\n",
        "print(duplicates)"
      ],
      "metadata": {
        "colab": {
          "base_uri": "https://localhost:8080/"
        },
        "id": "CwXXRX6nXmzP",
        "outputId": "619102d4-b101-422d-9012-0f4fa1ee3798"
      },
      "execution_count": 22,
      "outputs": [
        {
          "output_type": "stream",
          "name": "stdout",
          "text": [
            "Empty DataFrame\n",
            "Columns: [ID, Year_Birth, Education, Marital_Status, Income, Kidhome, Teenhome, Dt_Customer, Recency, MntWines, MntFruits, MntMeatProducts, MntFishProducts, MntSweetProducts, MntGoldProds, NumDealsPurchases, NumWebPurchases, NumCatalogPurchases, NumStorePurchases, NumWebVisitsMonth, AcceptedCmp3, AcceptedCmp4, AcceptedCmp5, AcceptedCmp1, AcceptedCmp2, Complain, Z_CostContact, Z_Revenue, Response]\n",
            "Index: []\n",
            "\n",
            "[0 rows x 29 columns]\n"
          ]
        }
      ]
    },
    {
      "cell_type": "code",
      "source": [],
      "metadata": {
        "id": "J8ScwUvfYunJ"
      },
      "execution_count": null,
      "outputs": []
    }
  ]
}